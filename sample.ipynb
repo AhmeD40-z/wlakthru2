{
 "cells": [
  {
   "cell_type": "markdown",
   "id": "47e52717-2c18-447e-8a5e-97064055b590",
   "metadata": {},
   "source": [
    "# Walkthru sample notebook"
   ]
  },
  {
   "cell_type": "code",
   "execution_count": 1,
   "id": "f3595267-f5a1-427e-affe-a7d19164ea77",
   "metadata": {},
   "outputs": [],
   "source": [
    "from numpy import *"
   ]
  },
  {
   "cell_type": "code",
   "execution_count": 2,
   "id": "298cb6ef-fefa-49dd-847d-d31cd90546b0",
   "metadata": {},
   "outputs": [
    {
     "data": {
      "text/plain": [
       "2"
      ]
     },
     "execution_count": 2,
     "metadata": {},
     "output_type": "execute_result"
    }
   ],
   "source": [
    "1+1"
   ]
  },
  {
   "cell_type": "markdown",
   "id": "5f157a38-9ca1-4671-8aeb-8602e3a32e9b",
   "metadata": {},
   "source": [
    "here is how I calculate `sin`"
   ]
  },
  {
   "cell_type": "code",
   "execution_count": 3,
   "id": "e9bef2b7-4cff-4735-b2f5-0e76cc7c7920",
   "metadata": {},
   "outputs": [
    {
     "data": {
      "text/plain": [
       "array([0.84147098, 1.        ])"
      ]
     },
     "execution_count": 3,
     "metadata": {},
     "output_type": "execute_result"
    }
   ],
   "source": [
    "a = array([1.0, pi/2])\n",
    "sin(a)"
   ]
  },
  {
   "cell_type": "code",
   "execution_count": null,
   "id": "4dd23a86-7627-4ba1-a4a9-91dddbfc1bcb",
   "metadata": {},
   "outputs": [],
   "source": []
  }
 ],
 "metadata": {
  "kernelspec": {
   "display_name": "Python 3 (ipykernel)",
   "language": "python",
   "name": "python3"
  },
  "language_info": {
   "codemirror_mode": {
    "name": "ipython",
    "version": 3
   },
   "file_extension": ".py",
   "mimetype": "text/x-python",
   "name": "python",
   "nbconvert_exporter": "python",
   "pygments_lexer": "ipython3",
   "version": "3.10.13"
  }
 },
 "nbformat": 4,
 "nbformat_minor": 5
}
